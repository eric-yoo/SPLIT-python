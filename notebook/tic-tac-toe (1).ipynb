{
 "cells": [
  {
   "cell_type": "code",
   "execution_count": 3,
   "metadata": {},
   "outputs": [],
   "source": []
  },
  {
   "cell_type": "code",
   "execution_count": 2,
   "metadata": {},
   "outputs": [
    {
     "name": "stdout",
     "output_type": "stream",
     "text": [
      "_\t_\t_\t\n",
      "_\t_\t_\t\n",
      "_\t_\t_\t\n",
      "1번 플레이어의 차례입니다.O\n",
      "1\n",
      "O\t_\t_\t\n",
      "_\t_\t_\t\n",
      "_\t_\t_\t\n",
      "2번 플레이어의 차례입니다.X\n",
      "2\n",
      "O\t_\t_\t\n",
      "_\t_\t_\t\n",
      "_\tX\t_\t\n",
      "1번 플레이어의 차례입니다.O\n",
      "3\n",
      "O\t_\t_\t\n",
      "_\t_\t_\t\n",
      "_\tX\tO\t\n",
      "2번 플레이어의 차례입니다.X\n",
      "4\n",
      "O\t_\t_\t\n",
      "_\t_\t_\t\n",
      "X\tX\tO\t\n",
      "1번 플레이어의 차례입니다.O\n",
      "5\n",
      "O\t_\t_\t\n",
      "_\tO\t_\t\n",
      "X\tX\tO\t\n",
      "2번 플레이어의 차례입니다.X\n",
      "6\n",
      "O\t_\t_\t\n",
      "_\tO\tX\t\n",
      "X\tX\tO\t\n",
      "1번 플레이어의 차례입니다.O\n",
      "7\n",
      "O\t_\t_\t\n",
      "O\tO\tX\t\n",
      "X\tX\tO\t\n",
      "2번 플레이어의 차례입니다.X\n",
      "8\n",
      "O\tX\t_\t\n",
      "O\tO\tX\t\n",
      "X\tX\tO\t\n",
      "1번 플레이어의 차례입니다.O\n",
      "9\n",
      "O\tX\tO\t\n",
      "O\tO\tX\t\n",
      "X\tX\tO\t\n"
     ]
    }
   ],
   "source": [
    "msgs=[\"1번 플레이어의 차례입니다.\",\"2번 플레이어의 차례입니다.\"]\n",
    "ends=[\"1번 플레이어가 승리하였습니다.\",\"2번 플레이어가 승리하였습니다.\"]\n",
    "marks=['O','X']\n",
    "board=[]\n",
    "# board=[['_','_','_',],['_','_','_',],['_','_','_',]]\n",
    "for i in range(3): #[0,1,2]\n",
    "    board.append([])\n",
    "    for j in range(3):\n",
    "        board[i].append('_')\n",
    "        \n",
    "for i in range(3): #board안의 각 행마다\n",
    "    for j in range(3): #행 안의 각 원소마다\n",
    "        print(board[i][j], end='\\t')\n",
    "    print('')\n",
    "\n",
    "    \n",
    "# TODO: 위 코드를 적절히 가져다 써서 틱택토 게임을 만들어주세요~\n",
    "        \n",
    "for iter in range(9): #0~8\n",
    "#     if iter%2==0:\n",
    "#         mark='O'\n",
    "#     else:\n",
    "#         mark='X'\n",
    "    mark=marks[iter%2]\n",
    "    print(msgs[iter%2])\n",
    "\n",
    "    user_input=int(input())\n",
    "    x=2-(user_input-1)//3\n",
    "    y=(user_input-1)%3\n",
    "    board[x][y]=mark\n",
    "    for i in range(3):\n",
    "        for j in range(3):\n",
    "            print(board[i][j], end='\\t')\n",
    "        print('')\n"
   ]
  },
  {
   "cell_type": "code",
   "execution_count": null,
   "metadata": {},
   "outputs": [],
   "source": []
  },
  {
   "cell_type": "code",
   "execution_count": null,
   "metadata": {},
   "outputs": [],
   "source": []
  }
 ],
 "metadata": {
  "kernelspec": {
   "display_name": "Python 3",
   "language": "python",
   "name": "python3"
  },
  "language_info": {
   "codemirror_mode": {
    "name": "ipython",
    "version": 3
   },
   "file_extension": ".py",
   "mimetype": "text/x-python",
   "name": "python",
   "nbconvert_exporter": "python",
   "pygments_lexer": "ipython3",
   "version": "3.5.2"
  }
 },
 "nbformat": 4,
 "nbformat_minor": 2
}
