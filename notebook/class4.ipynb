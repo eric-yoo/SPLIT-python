{
 "cells": [
  {
   "cell_type": "markdown",
   "metadata": {},
   "source": [
    "### function (1) basics"
   ]
  },
  {
   "cell_type": "code",
   "execution_count": null,
   "metadata": {},
   "outputs": [],
   "source": [
    "### input으로 문자를 입력 받아 3번 출력한다\n",
    "def print_3_times():\n",
    "    string = input()\n",
    "    print(\"여기부터가 출력입니다.\")\n",
    "    for i in range(3):\n",
    "        print(string)"
   ]
  },
  {
   "cell_type": "code",
   "execution_count": 5,
   "metadata": {},
   "outputs": [
    {
     "name": "stdout",
     "output_type": "stream",
     "text": [
      "입력\n",
      "여기부터가 출력입니다.\n",
      "입력\n",
      "입력\n",
      "입력\n"
     ]
    }
   ],
   "source": [
    "print_3_times()"
   ]
  },
  {
   "cell_type": "code",
   "execution_count": 6,
   "metadata": {},
   "outputs": [
    {
     "name": "stdout",
     "output_type": "stream",
     "text": [
      "0\n",
      "여기부터가 출력입니다.\n",
      "0\n",
      "0\n",
      "0\n"
     ]
    }
   ],
   "source": [
    "string = input()\n",
    "print(\"여기부터가 출력입니다.\")\n",
    "for i in range(3):\n",
    "    print(string)"
   ]
  },
  {
   "cell_type": "code",
   "execution_count": 7,
   "metadata": {
    "scrolled": true
   },
   "outputs": [
    {
     "name": "stdout",
     "output_type": "stream",
     "text": [
      "여기부터가 출력입니다.\n",
      "가\n",
      "가\n",
      "가\n",
      "여기부터가 출력입니다.\n",
      "나\n",
      "나\n",
      "나\n",
      "여기부터가 출력입니다.\n",
      "다\n",
      "다\n",
      "다\n"
     ]
    }
   ],
   "source": [
    "# 문자를 넘겨주면 3번 출력한다\n",
    "names=['가','나','다']\n",
    "for name in names:\n",
    "    string = name\n",
    "    print(\"여기부터가 출력입니다.\")\n",
    "    for i in range(3):\n",
    "        print(string)\n"
   ]
  },
  {
   "cell_type": "code",
   "execution_count": 8,
   "metadata": {},
   "outputs": [],
   "source": [
    "# 함수로 구현하면...\n",
    "def print_3_times(str_from_outside):\n",
    "    string = str_from_outside\n",
    "    print(\"여기부터가 출력입니다.\")\n",
    "    for i in range(3):\n",
    "        print(string)"
   ]
  },
  {
   "cell_type": "code",
   "execution_count": 10,
   "metadata": {},
   "outputs": [
    {
     "name": "stdout",
     "output_type": "stream",
     "text": [
      "여기부터가 출력입니다.\n",
      "홍길동\n",
      "홍길동\n",
      "홍길동\n"
     ]
    }
   ],
   "source": [
    "print_3_times(\"홍길동\")"
   ]
  },
  {
   "cell_type": "code",
   "execution_count": 11,
   "metadata": {
    "scrolled": true
   },
   "outputs": [
    {
     "name": "stdout",
     "output_type": "stream",
     "text": [
      "여기부터가 출력입니다.\n",
      "가\n",
      "가\n",
      "가\n",
      "여기부터가 출력입니다.\n",
      "나\n",
      "나\n",
      "나\n",
      "여기부터가 출력입니다.\n",
      "다\n",
      "다\n",
      "다\n"
     ]
    }
   ],
   "source": [
    "# 문자를 넘겨주면 3번 출력한다\n",
    "names=['가','나','다']\n",
    "\n",
    "for name in names:\n",
    "    print_3_times(name)"
   ]
  },
  {
   "cell_type": "markdown",
   "metadata": {},
   "source": [
    "### function (2) recursion"
   ]
  },
  {
   "cell_type": "code",
   "execution_count": 12,
   "metadata": {},
   "outputs": [],
   "source": [
    "# 답을 말할 때까지 계속 왜?라고 물어보는 함수\n",
    "def ask_infinitely():\n",
    "    user_answer=input(\"왜?\")\n",
    "    if user_answer == \"답\":\n",
    "        print(\"good job\")\n",
    "    else:\n",
    "        ask_infinitely()"
   ]
  },
  {
   "cell_type": "code",
   "execution_count": 13,
   "metadata": {},
   "outputs": [
    {
     "name": "stdout",
     "output_type": "stream",
     "text": [
      "왜?1\n",
      "왜?2\n",
      "왜?오\n",
      "왜??\n",
      "왜?답\n",
      "good job\n"
     ]
    }
   ],
   "source": [
    "ask_infinitely()"
   ]
  },
  {
   "cell_type": "markdown",
   "metadata": {},
   "source": [
    "### function (3) return"
   ]
  },
  {
   "cell_type": "code",
   "execution_count": 14,
   "metadata": {},
   "outputs": [],
   "source": [
    "# 숫자를 넘겨주면 x 100한 숫자를 돌려주는 함수\n",
    "def mul_100(int_from_outside):\n",
    "    return int_from_outside*100"
   ]
  },
  {
   "cell_type": "code",
   "execution_count": 17,
   "metadata": {},
   "outputs": [
    {
     "name": "stdout",
     "output_type": "stream",
     "text": [
      "500\n"
     ]
    }
   ],
   "source": [
    "a=5\n",
    "b=mul_100(a)\n",
    "print(b)"
   ]
  },
  {
   "cell_type": "markdown",
   "metadata": {},
   "source": [
    "### exception handling"
   ]
  },
  {
   "cell_type": "code",
   "execution_count": 1,
   "metadata": {
    "scrolled": true
   },
   "outputs": [
    {
     "name": "stdout",
     "output_type": "stream",
     "text": [
      "a\n",
      "invalid literal for int() with base 10: 'a'\n"
     ]
    }
   ],
   "source": [
    "try:\n",
    "    a=input()\n",
    "    int_a=int(a)\n",
    "#     code to try\n",
    "    \n",
    "except Exception as e:\n",
    "    print(e)\n",
    "#     exception code"
   ]
  }
 ],
 "metadata": {
  "kernelspec": {
   "display_name": "Python 3",
   "language": "python",
   "name": "python3"
  },
  "language_info": {
   "codemirror_mode": {
    "name": "ipython",
    "version": 3
   },
   "file_extension": ".py",
   "mimetype": "text/x-python",
   "name": "python",
   "nbconvert_exporter": "python",
   "pygments_lexer": "ipython3",
   "version": "3.5.2"
  }
 },
 "nbformat": 4,
 "nbformat_minor": 2
}
