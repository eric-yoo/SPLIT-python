{
 "cells": [
  {
   "cell_type": "markdown",
   "metadata": {},
   "source": [
    "# Practice 1\n",
    "### I/O"
   ]
  },
  {
   "cell_type": "code",
   "execution_count": 19,
   "metadata": {},
   "outputs": [
    {
     "name": "stdout",
     "output_type": "stream",
     "text": [
      "hello world\n"
     ]
    }
   ],
   "source": [
    "print(\"hello world\")"
   ]
  },
  {
   "cell_type": "code",
   "execution_count": 20,
   "metadata": {},
   "outputs": [
    {
     "name": "stdout",
     "output_type": "stream",
     "text": [
      "Type a number1\n"
     ]
    }
   ],
   "source": [
    "input1=input(\"Type a number\")"
   ]
  },
  {
   "cell_type": "markdown",
   "metadata": {},
   "source": [
    "### type, conversion"
   ]
  },
  {
   "cell_type": "code",
   "execution_count": 21,
   "metadata": {},
   "outputs": [
    {
     "name": "stdout",
     "output_type": "stream",
     "text": [
      "<class 'str'>\n"
     ]
    }
   ],
   "source": [
    "print(type(input1))"
   ]
  },
  {
   "cell_type": "code",
   "execution_count": 22,
   "metadata": {},
   "outputs": [
    {
     "name": "stdout",
     "output_type": "stream",
     "text": [
      "<class 'int'>\n"
     ]
    }
   ],
   "source": [
    "input1=int(input1)\n",
    "print(type(input1))"
   ]
  },
  {
   "cell_type": "markdown",
   "metadata": {},
   "source": [
    "### basic operators"
   ]
  },
  {
   "cell_type": "code",
   "execution_count": 17,
   "metadata": {},
   "outputs": [
    {
     "name": "stdout",
     "output_type": "stream",
     "text": [
      "3.0\n"
     ]
    }
   ],
   "source": [
    "op_1=1+2-3*4/5%6**7//8\n",
    "print(op_1)"
   ]
  },
  {
   "cell_type": "markdown",
   "metadata": {},
   "source": [
    "True True\n",
    "True False\n",
    "False True\n",
    "False False"
   ]
  },
  {
   "cell_type": "code",
   "execution_count": 16,
   "metadata": {
    "scrolled": true
   },
   "outputs": [
    {
     "name": "stdout",
     "output_type": "stream",
     "text": [
      "False\n",
      "True\n",
      "False\n",
      "True\n",
      "False\n"
     ]
    }
   ],
   "source": [
    "print(True and False)\n",
    "print(True or False)\n",
    "print(not True)\n",
    "print(not False)\n",
    "op_2= not((True and False) or True)\n",
    "print(op_2)\n"
   ]
  },
  {
   "cell_type": "code",
   "execution_count": 14,
   "metadata": {},
   "outputs": [
    {
     "name": "stdout",
     "output_type": "stream",
     "text": [
      "True\n",
      "False\n"
     ]
    }
   ],
   "source": [
    "print(op_2==0)\n",
    "print(op_2!=0)"
   ]
  },
  {
   "cell_type": "code",
   "execution_count": 15,
   "metadata": {},
   "outputs": [
    {
     "name": "stdout",
     "output_type": "stream",
     "text": [
      "True\n",
      "True\n",
      "False\n",
      "False\n"
     ]
    }
   ],
   "source": [
    "print(op_1>op_2)\n",
    "print(op_1>=op_2)\n",
    "print(op_1<op_2)\n",
    "print(op_1<=op_2)"
   ]
  },
  {
   "cell_type": "markdown",
   "metadata": {},
   "source": [
    "### if - else - elif"
   ]
  },
  {
   "cell_type": "code",
   "execution_count": 25,
   "metadata": {},
   "outputs": [
    {
     "name": "stdout",
     "output_type": "stream",
     "text": [
      "input was 5\n"
     ]
    }
   ],
   "source": [
    "input1=5\n",
    "if(input1==0):\n",
    "    print(\"input was 0\")\n",
    "else:\n",
    "    print(\"input was {}\".format(input1))"
   ]
  },
  {
   "cell_type": "code",
   "execution_count": 15,
   "metadata": {},
   "outputs": [
    {
     "name": "stdout",
     "output_type": "stream",
     "text": [
      "negative\n"
     ]
    }
   ],
   "source": [
    "if (op_result>0):\n",
    "    print(\"positive\")\n",
    "elif (op_result<0):\n",
    "    print(\"negative\")\n",
    "else:\n",
    "    print(0)"
   ]
  },
  {
   "cell_type": "markdown",
   "metadata": {},
   "source": [
    "# Homework 1\n",
    "### calculator\n",
    "3개의 입력 num1,operator,num2를 차례로 받는다.\n",
    "\n",
    "num1과 num2는 정수이다. (잘못된 입력은 없다고 가정)\n",
    "\n",
    "operator 종류는 수학연산자, 비교연산자, 논리연산자 중 하나이다. (+ - * / ** // == != > >= < <= and or)\n",
    "\n",
    "    1) operator가 위의 연산자 중 하나인 경우:\n",
    "    operator(num1, num2)의 결과를 출력한다.\n",
    "    ex) 1,+,2 -> 3 출력 0,and,1 -> 0 출력\n",
    "    \n",
    "    2) operator가 잘못된 입력일 경우:\n",
    "    \"정의되지 않은 연산자입니다.\" 출력\n"
   ]
  },
  {
   "cell_type": "code",
   "execution_count": 2,
   "metadata": {},
   "outputs": [
    {
     "name": "stdout",
     "output_type": "stream",
     "text": [
      "num1:1\n",
      "operator:+\n",
      "num2:2\n"
     ]
    }
   ],
   "source": [
    "num1 = input(\"num1:\")\n",
    "operator = input(\"operator:\")\n",
    "num2 = input(\"num2:\")\n"
   ]
  },
  {
   "cell_type": "code",
   "execution_count": 4,
   "metadata": {},
   "outputs": [
    {
     "name": "stdout",
     "output_type": "stream",
     "text": [
      "3\n"
     ]
    }
   ],
   "source": [
    "num1=int(num1)\n",
    "num2=int(num2)\n",
    "if(operator=='+'):\n",
    "    print(num1+num2)\n",
    "elif(operator=='-'):\n",
    "    print(num1-num2)\n",
    "elif(operator=='*'):\n",
    "    print(num1*num2)\n",
    "elif(operator=='/'):\n",
    "    print(num1/num2)\n",
    "elif(operator=='**'):\n",
    "    print(num1**num2)\n",
    "elif(operator=='//'):\n",
    "    print(num1//num2)\n",
    "elif(operator=='=='):\n",
    "    print(num1==num2)\n",
    "elif(operator=='!='):\n",
    "    print(num1!=num2)\n",
    "elif(operator=='>'):\n",
    "    print(num1>num2)\n",
    "elif(operator=='>='):\n",
    "    print(num1>=num2)\n",
    "elif(operator=='<'):\n",
    "    print(num1<num2)\n",
    "elif(operator=='<='):\n",
    "    print(num1<=num2)\n",
    "elif(operator=='and'):\n",
    "    print(num1 and num2)\n",
    "elif(operator=='or'):\n",
    "    print(num1 or num2)\n",
    "elif(operator=='not'):\n",
    "    print(num1>num2)\n",
    "elif(operator=='>='):\n",
    "    print(num1>num2) \n",
    "else:\n",
    "    print(\"정의되지 않은 연산자입니다.\")"
   ]
  },
  {
   "cell_type": "code",
   "execution_count": null,
   "metadata": {},
   "outputs": [],
   "source": []
  }
 ],
 "metadata": {
  "kernelspec": {
   "display_name": "Python 3",
   "language": "python",
   "name": "python3"
  },
  "language_info": {
   "codemirror_mode": {
    "name": "ipython",
    "version": 3
   },
   "file_extension": ".py",
   "mimetype": "text/x-python",
   "name": "python",
   "nbconvert_exporter": "python",
   "pygments_lexer": "ipython3",
   "version": "3.5.2"
  }
 },
 "nbformat": 4,
 "nbformat_minor": 2
}
