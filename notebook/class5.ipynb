{
 "cells": [
  {
   "cell_type": "markdown",
   "metadata": {},
   "source": [
    "### function (4) multiple return"
   ]
  },
  {
   "cell_type": "code",
   "execution_count": 33,
   "metadata": {},
   "outputs": [],
   "source": [
    "def sum_diff(a,b):\n",
    "    sum=a+b\n",
    "    diff=abs(a-b) # 절댓값\n",
    "    return sum,diff"
   ]
  },
  {
   "cell_type": "code",
   "execution_count": 36,
   "metadata": {},
   "outputs": [
    {
     "name": "stdout",
     "output_type": "stream",
     "text": [
      "(6, 4)\n"
     ]
    }
   ],
   "source": [
    "result=sum_diff(1,5)\n",
    "print(result)"
   ]
  },
  {
   "cell_type": "code",
   "execution_count": 38,
   "metadata": {},
   "outputs": [
    {
     "name": "stdout",
     "output_type": "stream",
     "text": [
      "4\n"
     ]
    }
   ],
   "source": [
    "result=sum_diff(1,5)\n",
    "sum=result[0]\n",
    "diff=result[1]\n",
    "print(diff)"
   ]
  },
  {
   "cell_type": "markdown",
   "metadata": {},
   "source": [
    "### function (5) parameter: \\*args, \\**kwargs"
   ]
  },
  {
   "cell_type": "code",
   "execution_count": 3,
   "metadata": {},
   "outputs": [],
   "source": [
    "def add_all(*args): # ~= list\n",
    "    result = 0 \n",
    "    for i in args: \n",
    "        result = result + i\n",
    "    return result"
   ]
  },
  {
   "cell_type": "code",
   "execution_count": 5,
   "metadata": {},
   "outputs": [
    {
     "data": {
      "text/plain": [
       "82"
      ]
     },
     "execution_count": 5,
     "metadata": {},
     "output_type": "execute_result"
    }
   ],
   "source": [
    "add_all(1,2,3,4,5,67)"
   ]
  },
  {
   "cell_type": "code",
   "execution_count": 52,
   "metadata": {},
   "outputs": [],
   "source": [
    "def read_params(par1, *pars): \n",
    "    print (\"첫 번째 parameter :\", par1) \n",
    "    for par in pars: \n",
    "        print(\"이후 parameter들 :\", par)\n"
   ]
  },
  {
   "cell_type": "code",
   "execution_count": 14,
   "metadata": {},
   "outputs": [
    {
     "name": "stdout",
     "output_type": "stream",
     "text": [
      "첫 번째 parameter : 첫\n",
      "이후 parameter들 : 둘\n",
      "이후 parameter들 : 셋\n",
      "이후 parameter들 : 넷\n"
     ]
    }
   ],
   "source": [
    "read_params('첫', '둘', '셋', '넷') "
   ]
  },
  {
   "cell_type": "code",
   "execution_count": 15,
   "metadata": {},
   "outputs": [
    {
     "name": "stdout",
     "output_type": "stream",
     "text": [
      "첫 번째 parameter : 첫\n",
      "이후 parameter들 : ['둘', '셋', '넷']\n"
     ]
    }
   ],
   "source": [
    "read_params('첫', ['둘', '셋', '넷']) "
   ]
  },
  {
   "cell_type": "code",
   "execution_count": 16,
   "metadata": {},
   "outputs": [],
   "source": [
    "def explain_params(**kwargs):\n",
    "    print(kwargs)"
   ]
  },
  {
   "cell_type": "code",
   "execution_count": 17,
   "metadata": {
    "scrolled": true
   },
   "outputs": [
    {
     "name": "stdout",
     "output_type": "stream",
     "text": [
      "{'first': '첫', 'fourth': '넷', 'third': '셋', 'second': '둘'}\n"
     ]
    }
   ],
   "source": [
    "explain_params(first='첫', second='둘', third='셋', fourth='넷')"
   ]
  },
  {
   "cell_type": "markdown",
   "metadata": {},
   "source": [
    "### function (6) parameter: defaults"
   ]
  },
  {
   "cell_type": "code",
   "execution_count": 51,
   "metadata": {},
   "outputs": [
    {
     "name": "stdout",
     "output_type": "stream",
     "text": [
      "나의 이름은 홍기현 입니다.\n",
      "나이는 21살입니다.\n",
      "출생연도는 1993입니다.\n",
      "남자입니다.\n"
     ]
    }
   ],
   "source": [
    "def introduce(name, age=21, year= 1993, man=True): \n",
    "    print(\"나의 이름은 {} 입니다.\".format(name)) \n",
    "    print(\"나이는 {}살입니다.\".format(age)) \n",
    "    print(\"출생연도는 {}입니다.\".format(year)) \n",
    "    if man: \n",
    "        print(\"남자입니다.\")\n",
    "    else: \n",
    "        print(\"여자입니다.\")\n",
    "\n",
    "introduce(\"홍기현\")"
   ]
  },
  {
   "cell_type": "code",
   "execution_count": 42,
   "metadata": {},
   "outputs": [
    {
     "name": "stdout",
     "output_type": "stream",
     "text": [
      "나의 이름은 홍길동 입니다.\n",
      "나이는 20살입니다.\n",
      "남자입니다.\n"
     ]
    }
   ],
   "source": [
    "introduce(\"홍길동\",20,True)"
   ]
  },
  {
   "cell_type": "code",
   "execution_count": 27,
   "metadata": {
    "scrolled": true
   },
   "outputs": [
    {
     "name": "stdout",
     "output_type": "stream",
     "text": [
      "나의 이름은 홍길순 입니다.\n",
      "나이는 15살입니다.\n",
      "여자입니다.\n"
     ]
    }
   ],
   "source": [
    "introduce(\"홍길순\",15,False)"
   ]
  },
  {
   "cell_type": "code",
   "execution_count": 43,
   "metadata": {},
   "outputs": [
    {
     "name": "stdout",
     "output_type": "stream",
     "text": [
      "나의 이름은 유용환 입니다.\n",
      "나이는 27살입니다.\n",
      "남자입니다.\n"
     ]
    }
   ],
   "source": [
    "introduce(\"유용환\",27)"
   ]
  },
  {
   "cell_type": "markdown",
   "metadata": {},
   "source": [
    "##### advanced topics in functions: decorator, algorithms, ... (not for now)"
   ]
  },
  {
   "cell_type": "markdown",
   "metadata": {},
   "source": [
    "### file I/O"
   ]
  },
  {
   "cell_type": "code",
   "execution_count": 71,
   "metadata": {},
   "outputs": [
    {
     "name": "stdout",
     "output_type": "stream",
     "text": [
      "새 줄: 수정된 메모입니다.\n",
      "\n",
      "새 줄: 추가된 메모입니다.\n"
     ]
    }
   ],
   "source": [
    "with open(\"memo.txt\",'r') as f:\n",
    "    memo=f.readlines()\n",
    "    for line in memo:\n",
    "        print(\"새 줄: {}\".format(line))"
   ]
  },
  {
   "cell_type": "code",
   "execution_count": 62,
   "metadata": {},
   "outputs": [],
   "source": [
    "with open(\"memo.txt\",'w') as f:\n",
    "    f.write(\"수정된 메모입니다.\\n\")"
   ]
  },
  {
   "cell_type": "code",
   "execution_count": 63,
   "metadata": {},
   "outputs": [],
   "source": [
    "with open(\"memo.txt\",'a') as f:\n",
    "    f.write(\"추가된 메모입니다.\")"
   ]
  },
  {
   "cell_type": "code",
   "execution_count": 72,
   "metadata": {},
   "outputs": [
    {
     "name": "stdout",
     "output_type": "stream",
     "text": [
      "1,2,3\n",
      "\n",
      "4,5,6\n",
      "\n",
      "7,8,9\n",
      "\n"
     ]
    }
   ],
   "source": [
    "with open(\"memo.csv\",'r') as f:\n",
    "    memo=f.readlines()\n",
    "    for line in memo:\n",
    "        print(line)"
   ]
  },
  {
   "cell_type": "code",
   "execution_count": 79,
   "metadata": {},
   "outputs": [
    {
     "name": "stdout",
     "output_type": "stream",
     "text": [
      "[['1', '2', '3'], ['4', '5', '6'], ['7', '8', '9']]\n"
     ]
    }
   ],
   "source": [
    "import csv\n",
    "import codecs\n",
    "\n",
    "with codecs.open('memo.csv', encoding='utf8') as csvfile:\n",
    "    csv_reader = csv.reader(csvfile)\n",
    "    print(list(csv_reader))\n"
   ]
  }
 ],
 "metadata": {
  "kernelspec": {
   "display_name": "Python 3",
   "language": "python",
   "name": "python3"
  },
  "language_info": {
   "codemirror_mode": {
    "name": "ipython",
    "version": 3
   },
   "file_extension": ".py",
   "mimetype": "text/x-python",
   "name": "python",
   "nbconvert_exporter": "python",
   "pygments_lexer": "ipython3",
   "version": "3.5.2"
  }
 },
 "nbformat": 4,
 "nbformat_minor": 2
}
