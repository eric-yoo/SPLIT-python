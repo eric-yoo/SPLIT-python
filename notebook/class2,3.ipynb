{
 "cells": [
  {
   "cell_type": "markdown",
   "metadata": {},
   "source": [
    "# Practice 2\n",
    "### list (1) declare, access, append, pop, remove"
   ]
  },
  {
   "cell_type": "code",
   "execution_count": 2,
   "metadata": {},
   "outputs": [
    {
     "name": "stdout",
     "output_type": "stream",
     "text": [
      "[1, 2, 3, 4, 5]\n"
     ]
    }
   ],
   "source": [
    "list1 = [1,2,3,4,5]\n",
    "print(list1)"
   ]
  },
  {
   "cell_type": "code",
   "execution_count": 7,
   "metadata": {},
   "outputs": [
    {
     "name": "stdout",
     "output_type": "stream",
     "text": [
      "1\n",
      "4\n",
      "5\n"
     ]
    }
   ],
   "source": [
    "print(list1[0]) #list1[0]=1\n",
    "print(list1[3])\n",
    "print(list1[-1])"
   ]
  },
  {
   "cell_type": "code",
   "execution_count": 8,
   "metadata": {},
   "outputs": [
    {
     "name": "stdout",
     "output_type": "stream",
     "text": [
      "[1, 2, 3, 4, 5, 6]\n"
     ]
    }
   ],
   "source": [
    "list1.append(6)\n",
    "print(list1)"
   ]
  },
  {
   "cell_type": "code",
   "execution_count": 37,
   "metadata": {},
   "outputs": [
    {
     "name": "stdout",
     "output_type": "stream",
     "text": [
      "6\n",
      "[1, 2, 3, 4, 5]\n"
     ]
    }
   ],
   "source": [
    "last_element = list1.pop(-1) # by index\n",
    "print(last_element)\n",
    "print(list1)"
   ]
  },
  {
   "cell_type": "code",
   "execution_count": 38,
   "metadata": {},
   "outputs": [
    {
     "name": "stdout",
     "output_type": "stream",
     "text": [
      "[1, 2, 4, 5]\n"
     ]
    }
   ],
   "source": [
    "list1.remove(3) # by element\n",
    "print(list1)"
   ]
  },
  {
   "cell_type": "markdown",
   "metadata": {},
   "source": [
    "### list (2) slice, sort, reverse, index"
   ]
  },
  {
   "cell_type": "code",
   "execution_count": 45,
   "metadata": {},
   "outputs": [
    {
     "name": "stdout",
     "output_type": "stream",
     "text": [
      "[2, 4, 6, 8, 10, 1, 3, 5, 7, 9]\n"
     ]
    }
   ],
   "source": [
    "list2 = [2,4,6,8,10,1,3,5,7,9]\n",
    "print(list2)"
   ]
  },
  {
   "cell_type": "code",
   "execution_count": 46,
   "metadata": {
    "scrolled": false
   },
   "outputs": [
    {
     "name": "stdout",
     "output_type": "stream",
     "text": [
      "[2, 4, 6]\n",
      "[2, 4, 6, 8, 10, 1, 3, 5, 7]\n",
      "[6, 8, 10, 1, 3, 5, 7, 9]\n"
     ]
    }
   ],
   "source": [
    "print(list2[0:3])\n",
    "print(list2[:-1])\n",
    "print(list2[2:])"
   ]
  },
  {
   "cell_type": "code",
   "execution_count": 50,
   "metadata": {},
   "outputs": [
    {
     "name": "stdout",
     "output_type": "stream",
     "text": [
      "list2[6] = 3\n"
     ]
    }
   ],
   "source": [
    "where_is_3 = list2.index(3) #list[6]=3\n",
    "print('list2[{}] = {}'.format(where_is_3, 3))"
   ]
  },
  {
   "cell_type": "code",
   "execution_count": 61,
   "metadata": {},
   "outputs": [
    {
     "name": "stdout",
     "output_type": "stream",
     "text": [
      "[1, 2, 3, 4, 5, 6, 7, 8, 9, 10]\n"
     ]
    }
   ],
   "source": [
    "list2.sort()\n",
    "print(list2)"
   ]
  },
  {
   "cell_type": "code",
   "execution_count": 62,
   "metadata": {},
   "outputs": [
    {
     "name": "stdout",
     "output_type": "stream",
     "text": [
      "[10, 9, 8, 7, 6, 5, 4, 3, 2, 1]\n",
      "[1, 2, 3, 4, 5, 6, 7, 8, 9, 10]\n",
      "[10, 9, 8, 7, 6, 5, 4, 3, 2, 1]\n"
     ]
    }
   ],
   "source": [
    "\n",
    "list2.reverse()\n",
    "print(list2)\n",
    "list2.reverse()\n",
    "print(list2)\n",
    "list2.sort(reverse=True)\n",
    "print(list2)"
   ]
  },
  {
   "cell_type": "markdown",
   "metadata": {},
   "source": [
    "### list (3) nested list, list + list, list * [number]"
   ]
  },
  {
   "cell_type": "code",
   "execution_count": 11,
   "metadata": {
    "scrolled": true
   },
   "outputs": [
    {
     "name": "stdout",
     "output_type": "stream",
     "text": [
      "['a', [1, 2, 3], False]\n",
      "[1, 2, 3]\n",
      "False\n",
      "3\n"
     ]
    }
   ],
   "source": [
    "complex_list = ['a', [1,2,3], False,]\n",
    "print(complex_list)\n",
    "print(complex_list[1])\n",
    "print(complex_list[-1])\n",
    "print(complex_list[1][2])"
   ]
  },
  {
   "cell_type": "code",
   "execution_count": 22,
   "metadata": {},
   "outputs": [
    {
     "name": "stdout",
     "output_type": "stream",
     "text": [
      "0\n"
     ]
    }
   ],
   "source": [
    "nested_list = ['depth1', ['depth2_1', 'depth2_2'], [['depth3_1', 'depth3_2', 'depth3_3'], 'depth2_3']]\n",
    "\n",
    "matrix = [[1,0],[0,1]]\n",
    "print(matrix[0][1])"
   ]
  },
  {
   "cell_type": "markdown",
   "metadata": {},
   "source": [
    "Q. how to access 'depth3_2'??"
   ]
  },
  {
   "cell_type": "code",
   "execution_count": 66,
   "metadata": {},
   "outputs": [
    {
     "name": "stdout",
     "output_type": "stream",
     "text": [
      "['a', [1, 2, 3], False, 'depth1', ['depth2_1', 'depth2_2'], [['depth3_1', 'depth3_2', 'depth3_3'], 'depth2_3']]\n",
      "['a', [1, 2, 3], False, 'a', [1, 2, 3], False]\n"
     ]
    }
   ],
   "source": [
    "print(complex_list+nested_list)\n",
    "print(complex_list*2)"
   ]
  },
  {
   "cell_type": "markdown",
   "metadata": {},
   "source": [
    "### dictionary (1) declare, access, add, delete"
   ]
  },
  {
   "cell_type": "code",
   "execution_count": 11,
   "metadata": {},
   "outputs": [
    {
     "name": "stdout",
     "output_type": "stream",
     "text": [
      "{'D': 1.0, 'C': 2.0, 'B': 3.0, 'A': 4.0}\n"
     ]
    }
   ],
   "source": [
    "grade = {'A': 4.0, 'B': 3.0, 'C': 2.0, 'D':1.0,}\n",
    "print(grade)"
   ]
  },
  {
   "cell_type": "code",
   "execution_count": 12,
   "metadata": {},
   "outputs": [
    {
     "name": "stdout",
     "output_type": "stream",
     "text": [
      "4.0\n",
      "2.0\n"
     ]
    }
   ],
   "source": [
    "print(grade['A'])\n",
    "print(grade['C'])"
   ]
  },
  {
   "cell_type": "code",
   "execution_count": 13,
   "metadata": {},
   "outputs": [
    {
     "name": "stdout",
     "output_type": "stream",
     "text": [
      "{'F': 0.0, 'D': 1.0, 'C': 2.0, 'B': 3.0, 'A': 4.0}\n"
     ]
    }
   ],
   "source": [
    "grade['F']=0.0\n",
    "print(grade)"
   ]
  },
  {
   "cell_type": "code",
   "execution_count": 70,
   "metadata": {},
   "outputs": [
    {
     "name": "stdout",
     "output_type": "stream",
     "text": [
      "{'A': 4.0, 'B': 3.0, 'D': 1.0, 'C': 2.0}\n"
     ]
    }
   ],
   "source": [
    "del grade['F']\n",
    "print(grade)"
   ]
  },
  {
   "cell_type": "markdown",
   "metadata": {},
   "source": [
    "### dictionary (2) conversion to list"
   ]
  },
  {
   "cell_type": "code",
   "execution_count": 15,
   "metadata": {},
   "outputs": [
    {
     "name": "stdout",
     "output_type": "stream",
     "text": [
      "dict_keys(['F', 'D', 'C', 'B', 'A'])\n",
      "['F', 'D', 'C', 'B', 'A']\n"
     ]
    }
   ],
   "source": [
    "print(grade.keys())\n",
    "print(list(grade.keys()))"
   ]
  },
  {
   "cell_type": "code",
   "execution_count": 75,
   "metadata": {},
   "outputs": [
    {
     "name": "stdout",
     "output_type": "stream",
     "text": [
      "dict_values([4.0, 3.0, 1.0, 2.0])\n",
      "[4.0, 3.0, 1.0, 2.0]\n"
     ]
    }
   ],
   "source": [
    "print(grade.values())\n",
    "print(list(grade.values()))"
   ]
  },
  {
   "cell_type": "code",
   "execution_count": 74,
   "metadata": {},
   "outputs": [
    {
     "name": "stdout",
     "output_type": "stream",
     "text": [
      "dict_items([('A', 4.0), ('B', 3.0), ('D', 1.0), ('C', 2.0)])\n",
      "[('A', 4.0), ('B', 3.0), ('D', 1.0), ('C', 2.0)]\n"
     ]
    }
   ],
   "source": [
    "print(grade.items())\n",
    "print(list(grade.items()))"
   ]
  },
  {
   "cell_type": "markdown",
   "metadata": {},
   "source": [
    "### for - loop & list"
   ]
  },
  {
   "cell_type": "code",
   "execution_count": 10,
   "metadata": {},
   "outputs": [
    {
     "name": "stdout",
     "output_type": "stream",
     "text": [
      "유용환은(는) 사람이다\n",
      "강성길은(는) 사람이다\n",
      "송진호은(는) 사람이다\n"
     ]
    }
   ],
   "source": [
    "names = ['유용환', '강성길', '송진호']\n",
    "for name in names: #names 안의 각 name에 대해~\n",
    "    print(name+'은 사람이다')"
   ]
  },
  {
   "cell_type": "markdown",
   "metadata": {},
   "source": [
    "### for - loop & dictionary"
   ]
  },
  {
   "cell_type": "code",
   "execution_count": 17,
   "metadata": {},
   "outputs": [
    {
     "name": "stdout",
     "output_type": "stream",
     "text": [
      "송진호\n",
      "강성길\n",
      "유용환\n"
     ]
    }
   ],
   "source": [
    "majors = {'유용환':'전기정보공학부','강성길':'MBA','송진호':'기계항공공학부'}\n",
    "for a in majors.keys():\n",
    "    print(a)"
   ]
  },
  {
   "cell_type": "code",
   "execution_count": 83,
   "metadata": {},
   "outputs": [
    {
     "name": "stdout",
     "output_type": "stream",
     "text": [
      "전기정보공학부\n",
      "기계항공공학부\n",
      "MBA\n"
     ]
    }
   ],
   "source": [
    "for value in majors.values():\n",
    "    print(value)"
   ]
  },
  {
   "cell_type": "code",
   "execution_count": 88,
   "metadata": {},
   "outputs": [
    {
     "name": "stdout",
     "output_type": "stream",
     "text": [
      "유용환 은(는) 전기정보공학부 전공이다\n",
      "송진호 은(는) 기계항공공학부 전공이다\n",
      "강성길 은(는) MBA 전공이다\n"
     ]
    }
   ],
   "source": [
    "for key, value in majors.items():\n",
    "    print(\"{} 은(는) {} 전공이다\".format(key, value))"
   ]
  },
  {
   "cell_type": "code",
   "execution_count": 90,
   "metadata": {},
   "outputs": [
    {
     "name": "stdout",
     "output_type": "stream",
     "text": [
      "1 is in range(1,5)\n"
     ]
    }
   ],
   "source": [
    "if (1 in range(1,5)):\n",
    "    print(\"1 is in range(1,5)\")\n",
    "else:\n",
    "    print(\"1 is not in range(1,5)\")"
   ]
  },
  {
   "cell_type": "code",
   "execution_count": 24,
   "metadata": {},
   "outputs": [
    {
     "name": "stdout",
     "output_type": "stream",
     "text": [
      "강성길 는 MBA 전공이다\n"
     ]
    }
   ],
   "source": [
    "for key in majors.keys():\n",
    "    if key==\"강성길\":\n",
    "        print(\"{} 는 {} 전공이다\".format(key,majors[key]))"
   ]
  },
  {
   "cell_type": "code",
   "execution_count": 25,
   "metadata": {},
   "outputs": [
    {
     "name": "stdout",
     "output_type": "stream",
     "text": [
      "전기정보공학부\n"
     ]
    }
   ],
   "source": [
    "if 'MBA' in majors.values():\n",
    "    print(majors['유용환'])"
   ]
  },
  {
   "cell_type": "markdown",
   "metadata": {},
   "source": [
    "### for -loop & range"
   ]
  },
  {
   "cell_type": "code",
   "execution_count": 5,
   "metadata": {
    "scrolled": true
   },
   "outputs": [
    {
     "name": "stdout",
     "output_type": "stream",
     "text": [
      "반복할 작업 0\n",
      "반복할 작업 1\n",
      "반복할 작업 2\n"
     ]
    }
   ],
   "source": [
    "for i in range(3): # [0,1,2]\n",
    "\n",
    "    print(\"반복할 작업 {}\".format(i))"
   ]
  },
  {
   "cell_type": "code",
   "execution_count": 2,
   "metadata": {
    "scrolled": true
   },
   "outputs": [
    {
     "name": "stdout",
     "output_type": "stream",
     "text": [
      "2\n",
      "3\n",
      "4\n"
     ]
    }
   ],
   "source": [
    "for i in range(2,5):\n",
    "    print(i)"
   ]
  },
  {
   "cell_type": "code",
   "execution_count": 93,
   "metadata": {},
   "outputs": [
    {
     "data": {
      "text/html": [
       "<img src=\"https://inventwithpython.com/invent4thed/images/00108.jpeg\"/>"
      ],
      "text/plain": [
       "<IPython.core.display.Image object>"
      ]
     },
     "execution_count": 93,
     "metadata": {},
     "output_type": "execute_result"
    }
   ],
   "source": [
    "from IPython.display import Image\n",
    "from IPython.core.display import HTML \n",
    "Image(url= \"https://inventwithpython.com/invent4thed/images/00108.jpeg\")"
   ]
  },
  {
   "cell_type": "markdown",
   "metadata": {},
   "source": [
    "# Homework 2\n",
    "\n",
    "### Tic Tac Toe\n",
    "틱택토 게임이란? 링크 참고 https://ko.wikipedia.org/wiki/%ED%8B%B1%ED%83%9D%ED%86%A0\n",
    "2인용 틱택토 게임을 만들어보자. 게임은 다음과 같이 진행된다.\n",
    "\n",
    "1. 매 차례마다 \"1번 플레이어의 차례입니다.\" (또는 \"2번 플레이어의 차례입니다.\")를 출력하고 그 사람에게서 1~9 사이의 숫자를 입력받는다. \n",
    "\n",
    "    ex)\n",
    "        1번 플레이어의 차례입니다.\n",
    "        2\n",
    "        2번 플레이어의 차례입니다.\n",
    "        5\n",
    "        \n",
    "2. 플레이어에게서 입력을 받으면 틱택토 판의 해당 자리에 플레이어 O (또는 X)를 채워 그때 그때 출력한다. 칸은 키보드 숫자패드와 같고(위 그림 참고) 빈 자리는 _로 채워넣는다. \n",
    "\n",
    "    이미 차 있는 칸 또는 잘못된 입력이 들어오는 경우는 생각하지 않는다.\n",
    "    \n",
    "    ex)\n",
    "        1번 플레이어의 차례입니다.\n",
    "        2\n",
    "        \n",
    "        _ _ _\n",
    "        _ _ _\n",
    "        _ O _\n",
    "        \n",
    "        2번 플레이어의 차례입니다.\n",
    "        5\n",
    "        \n",
    "        _ _ _\n",
    "        _ X _\n",
    "        _ O _\n",
    "        \n",
    "        \n",
    "\n",
    "### 아래 부분은 Homework 3입니다.\n",
    "\n",
    "3. 이미 차 있는 자리 또는 잘못된 입력이 들어오면 아래와 같이 오류 메시지를 출력하고 다시 입력을 받는다.\n",
    "    \n",
    "    ex)\n",
    "        1번 플레이어의 차례입니다.\n",
    "        2\n",
    "        \n",
    "        _ _ _\n",
    "        _ _ _\n",
    "        _ O _\n",
    "        \n",
    "        2번 플레이어의 차례입니다.\n",
    "        5\n",
    "        \n",
    "        _ _ _\n",
    "        _ X _\n",
    "        _ O _\n",
    "        \n",
    "        1번 플레이어의 차례입니다.\n",
    "        5\n",
    "        이미 칸이 차있습니다!  -> 이 부분은 homework3 입니다.\n",
    "        10\n",
    "        잘못된 입력입니다!  -> 이 부분은 homework3 입니다.\n",
    "\n",
    "4. 게임의 규칙에 따라 이긴 플레이어가 생기면 게임을 종료하고 \"1번 플레이어가 승리하였습니다.\"(혹은 \"2번 플레이어가 승리하였습니다.\")를 출력한다.\n",
    "    \n",
    "    ex)\n",
    "        (게임 4회 진행 후)\n",
    "        \n",
    "        O X _\n",
    "        _ X _\n",
    "        O O X\n",
    "        \n",
    "        1번 플레이어의 차례입니다.\n",
    "        4\n",
    "        \n",
    "        O _ _\n",
    "        O X _\n",
    "        O O X\n",
    "        \n",
    "        1번 플레이어가 승리하였습니다.\n"
   ]
  },
  {
   "cell_type": "code",
   "execution_count": 1,
   "metadata": {},
   "outputs": [
    {
     "name": "stdout",
     "output_type": "stream",
     "text": [
      "_\t_\t_\t\n",
      "_\t_\t_\t\n",
      "_\t_\t_\t\n",
      "1번 플레이어의 차례입니다.\n",
      "1\n",
      "_\t_\t_\t\n",
      "_\t_\t_\t\n",
      "O\t_\t_\t\n",
      "2번 플레이어의 차례입니다.\n",
      "5\n",
      "_\t_\t_\t\n",
      "_\tX\t_\t\n",
      "O\t_\t_\t\n",
      "1번 플레이어의 차례입니다.\n",
      "9\n",
      "_\t_\tO\t\n",
      "_\tX\t_\t\n",
      "O\t_\t_\t\n",
      "2번 플레이어의 차례입니다.\n",
      "\n"
     ]
    },
    {
     "ename": "ValueError",
     "evalue": "invalid literal for int() with base 10: ''",
     "output_type": "error",
     "traceback": [
      "\u001b[0;31m---------------------------------------------------------------------------\u001b[0m",
      "\u001b[0;31mValueError\u001b[0m                                Traceback (most recent call last)",
      "\u001b[0;32m<ipython-input-1-b950f0e3b48f>\u001b[0m in \u001b[0;36m<module>\u001b[0;34m\u001b[0m\n\u001b[1;32m     17\u001b[0m     \u001b[0mmark\u001b[0m\u001b[0;34m=\u001b[0m\u001b[0mmarks\u001b[0m\u001b[0;34m[\u001b[0m\u001b[0mi\u001b[0m\u001b[0;34m%\u001b[0m\u001b[0;36m2\u001b[0m\u001b[0;34m]\u001b[0m\u001b[0;34m\u001b[0m\u001b[0m\n\u001b[1;32m     18\u001b[0m     \u001b[0mprint\u001b[0m\u001b[0;34m(\u001b[0m\u001b[0mmsgs\u001b[0m\u001b[0;34m[\u001b[0m\u001b[0miter\u001b[0m\u001b[0;34m%\u001b[0m\u001b[0;36m2\u001b[0m\u001b[0;34m]\u001b[0m\u001b[0;34m)\u001b[0m\u001b[0;34m\u001b[0m\u001b[0m\n\u001b[0;32m---> 19\u001b[0;31m     \u001b[0muser_input\u001b[0m\u001b[0;34m=\u001b[0m\u001b[0mint\u001b[0m\u001b[0;34m(\u001b[0m\u001b[0minput\u001b[0m\u001b[0;34m(\u001b[0m\u001b[0;34m)\u001b[0m\u001b[0;34m)\u001b[0m\u001b[0;34m\u001b[0m\u001b[0m\n\u001b[0m\u001b[1;32m     20\u001b[0m \u001b[0;34m\u001b[0m\u001b[0m\n\u001b[1;32m     21\u001b[0m     \u001b[0mboard\u001b[0m\u001b[0;34m[\u001b[0m\u001b[0;36m2\u001b[0m\u001b[0;34m-\u001b[0m\u001b[0;34m(\u001b[0m\u001b[0muser_input\u001b[0m\u001b[0;34m-\u001b[0m\u001b[0;36m1\u001b[0m\u001b[0;34m)\u001b[0m\u001b[0;34m//\u001b[0m\u001b[0;36m3\u001b[0m\u001b[0;34m]\u001b[0m\u001b[0;34m[\u001b[0m\u001b[0;34m(\u001b[0m\u001b[0muser_input\u001b[0m\u001b[0;34m-\u001b[0m\u001b[0;36m1\u001b[0m\u001b[0;34m)\u001b[0m\u001b[0;34m%\u001b[0m\u001b[0;36m3\u001b[0m\u001b[0;34m]\u001b[0m\u001b[0;34m=\u001b[0m\u001b[0mmarks\u001b[0m\u001b[0;34m[\u001b[0m\u001b[0miter\u001b[0m\u001b[0;34m%\u001b[0m\u001b[0;36m2\u001b[0m\u001b[0;34m]\u001b[0m\u001b[0;34m\u001b[0m\u001b[0m\n",
      "\u001b[0;31mValueError\u001b[0m: invalid literal for int() with base 10: ''"
     ]
    }
   ],
   "source": [
    "msgs=[\"1번 플레이어의 차례입니다.\",\"2번 플레이어의 차례입니다.\"]\n",
    "ends=[\"1번 플레이어가 승리하였습니다.\",\"2번 플레이어가 승리하였습니다.\"]\n",
    "marks=['O','X']\n",
    "board=[]\n",
    "for i in range(3):\n",
    "    board.append([])\n",
    "    for j in range(3):\n",
    "        board[i].append('_')\n",
    "        \n",
    "for i in range(3):\n",
    "        for j in range(3):\n",
    "            print(board[i][j], end='\\t')\n",
    "        print('')\n",
    "\n",
    "# TODO: 위 코드를 적절히 가져다 써서 틱택토 게임을 만들어주세요~"
   ]
  },
  {
   "cell_type": "markdown",
   "metadata": {},
   "source": []
  }
 ],
 "metadata": {
  "kernelspec": {
   "display_name": "Python 3",
   "language": "python",
   "name": "python3"
  },
  "language_info": {
   "codemirror_mode": {
    "name": "ipython",
    "version": 3
   },
   "file_extension": ".py",
   "mimetype": "text/x-python",
   "name": "python",
   "nbconvert_exporter": "python",
   "pygments_lexer": "ipython3",
   "version": "3.5.2"
  }
 },
 "nbformat": 4,
 "nbformat_minor": 2
}
