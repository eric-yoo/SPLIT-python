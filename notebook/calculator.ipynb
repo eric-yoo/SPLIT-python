{
 "cells": [
  {
   "cell_type": "code",
   "execution_count": 4,
   "metadata": {},
   "outputs": [],
   "source": [
    "def calc():\n",
    "    num1 = input(\"num1: \")\n",
    "    operator = input(\"operator: \")\n",
    "    num2 = input(\"num2: \")\n",
    "    num1=int(num1)\n",
    "    num2=int(num2)\n",
    "    if(operator=='+'):\n",
    "        print(num1+num2)\n",
    "    elif(operator=='-'):\n",
    "        print(num1-num2)\n",
    "    elif(operator=='*'):\n",
    "        print(num1*num2)\n",
    "    elif(operator=='/'):\n",
    "        print(num1/num2)\n",
    "    elif(operator=='**'):\n",
    "        print(num1**num2)\n",
    "    elif(operator=='//'):\n",
    "        print(num1//num2)\n",
    "    elif(operator=='%'):\n",
    "        print(num1%num2)\n",
    "    elif(operator=='and'):\n",
    "        print(num1 and num2)\n",
    "    elif(operator=='or'):\n",
    "        print(num1 or num2)\n",
    "    elif(operator=='=='):\n",
    "        print(num1==num2)\n",
    "    elif(operator=='!='):\n",
    "        print(num1!=num2)\n",
    "    elif(operator=='>='):\n",
    "        print(num1>=num2)\n",
    "    elif(operator=='<='):\n",
    "        print(num1<=num2)\n",
    "    elif(operator=='>'):\n",
    "        print(num1>num2)\n",
    "    elif(operator=='<'):\n",
    "        print(num1<num2)\n",
    "    else:\n",
    "        print(\"정의되지 않은 연산자입니다.\")"
   ]
  }
 ],
 "metadata": {
  "kernelspec": {
   "display_name": "Python 3",
   "language": "python",
   "name": "python3"
  },
  "language_info": {
   "codemirror_mode": {
    "name": "ipython",
    "version": 3
   },
   "file_extension": ".py",
   "mimetype": "text/x-python",
   "name": "python",
   "nbconvert_exporter": "python",
   "pygments_lexer": "ipython3",
   "version": "3.5.2"
  }
 },
 "nbformat": 4,
 "nbformat_minor": 2
}
